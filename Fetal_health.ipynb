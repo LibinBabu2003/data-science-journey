{
  "nbformat": 4,
  "nbformat_minor": 0,
  "metadata": {
    "colab": {
      "provenance": [],
      "authorship_tag": "ABX9TyPx++KfKFdricUAkDFN8ltB",
      "include_colab_link": true
    },
    "kernelspec": {
      "name": "python3",
      "display_name": "Python 3"
    },
    "language_info": {
      "name": "python"
    }
  },
  "cells": [
    {
      "cell_type": "markdown",
      "metadata": {
        "id": "view-in-github",
        "colab_type": "text"
      },
      "source": [
        "<a href=\"https://colab.research.google.com/github/LibinBabu2003/data-science-journey/blob/main/Fetal_health.ipynb\" target=\"_parent\"><img src=\"https://colab.research.google.com/assets/colab-badge.svg\" alt=\"Open In Colab\"/></a>"
      ]
    },
    {
      "cell_type": "markdown",
      "source": [
        "# **Binary Conversion**"
      ],
      "metadata": {
        "id": "SdLTwVM3CCHW"
      }
    },
    {
      "cell_type": "code",
      "execution_count": null,
      "metadata": {
        "colab": {
          "base_uri": "https://localhost:8080/"
        },
        "id": "M1kTdfVvA2mb",
        "outputId": "d7f9ab37-af73-4bc8-e0af-9d523cff11e9"
      },
      "outputs": [
        {
          "output_type": "stream",
          "name": "stdout",
          "text": [
            "File loaded successfully!\n",
            "Original class distribution:\n",
            "fetal_health\n",
            "1.0    1655\n",
            "2.0     295\n",
            "3.0     176\n",
            "Name: count, dtype: int64\n",
            "\n",
            "New binary class distribution:\n",
            "fetal_health\n",
            "0    1655\n",
            "1     471\n",
            "Name: count, dtype: int64\n"
          ]
        }
      ],
      "source": [
        "import pandas as pd\n",
        "import numpy as np\n",
        "\n",
        "df = pd.read_csv('/content/fetal_health.csv')\n",
        "print(\"File loaded successfully!\")\n",
        "print(\"Original class distribution:\")\n",
        "print(df['fetal_health'].value_counts())\n",
        "\n",
        "df['fetal_health'] = df['fetal_health'].map({1.0: 0, 2.0: 1, 3.0: 1})\n",
        "print(\"\\nNew binary class distribution:\")\n",
        "print(df['fetal_health'].value_counts())\n",
        "\n"
      ]
    },
    {
      "cell_type": "markdown",
      "source": [
        "# **Outlier detection and capping**"
      ],
      "metadata": {
        "id": "OxYjCPHVi9sn"
      }
    },
    {
      "cell_type": "code",
      "source": [
        "print(\"Starting outlier capping and verification process...\\n\")\n",
        "\n",
        "features_to_cap = df.drop(columns=['fetal_health']).columns\n",
        "\n",
        "for column in features_to_cap:\n",
        "\n",
        "    Q1 = df[column].quantile(0.25)\n",
        "    Q3 = df[column].quantile(0.75)\n",
        "    IQR = Q3 - Q1\n",
        "    lower_fence = Q1 - 1.5 * IQR\n",
        "    upper_fence = Q3 + 1.5 * IQR\n",
        "\n",
        "    outliers_before = df[(df[column] < lower_fence) | (df[column] > upper_fence)]\n",
        "    print(f\"--- Analyzing '{column}': Found {len(outliers_before)} outliers.\")\n",
        "\n",
        "    df[column] = df[column].clip(lower=lower_fence, upper=upper_fence)\n",
        "\n",
        "    outliers_after = df[(df[column] < lower_fence) | (df[column] > upper_fence)]\n",
        "    print(f\"Verification: New outlier count is {len(outliers_after)}.\")\n",
        "    print(\"-\" * 40)\n",
        "\n",
        "print(\"\\nOutlier capping and verification complete!\")"
      ],
      "metadata": {
        "colab": {
          "base_uri": "https://localhost:8080/"
        },
        "id": "hkkl1v6TZYH4",
        "outputId": "31afdb6b-2ff2-433f-9808-3ddcf0481ce2"
      },
      "execution_count": null,
      "outputs": [
        {
          "output_type": "stream",
          "name": "stdout",
          "text": [
            "Starting outlier capping and verification process...\n",
            "\n",
            "--- Analyzing 'baseline value': Found 0 outliers.\n",
            "Verification: New outlier count is 0.\n",
            "----------------------------------------\n",
            "--- Analyzing 'accelerations': Found 14 outliers.\n",
            "Verification: New outlier count is 0.\n",
            "----------------------------------------\n",
            "--- Analyzing 'fetal_movement': Found 307 outliers.\n",
            "Verification: New outlier count is 0.\n",
            "----------------------------------------\n",
            "--- Analyzing 'uterine_contractions': Found 1 outliers.\n",
            "Verification: New outlier count is 0.\n",
            "----------------------------------------\n",
            "--- Analyzing 'light_decelerations': Found 150 outliers.\n",
            "Verification: New outlier count is 0.\n",
            "----------------------------------------\n",
            "--- Analyzing 'severe_decelerations': Found 7 outliers.\n",
            "Verification: New outlier count is 0.\n",
            "----------------------------------------\n",
            "--- Analyzing 'prolongued_decelerations': Found 178 outliers.\n",
            "Verification: New outlier count is 0.\n",
            "----------------------------------------\n",
            "--- Analyzing 'abnormal_short_term_variability': Found 0 outliers.\n",
            "Verification: New outlier count is 0.\n",
            "----------------------------------------\n",
            "--- Analyzing 'mean_value_of_short_term_variability': Found 70 outliers.\n",
            "Verification: New outlier count is 0.\n",
            "----------------------------------------\n",
            "--- Analyzing 'percentage_of_time_with_abnormal_long_term_variability': Found 309 outliers.\n",
            "Verification: New outlier count is 0.\n",
            "----------------------------------------\n",
            "--- Analyzing 'mean_value_of_long_term_variability': Found 71 outliers.\n",
            "Verification: New outlier count is 0.\n",
            "----------------------------------------\n",
            "--- Analyzing 'histogram_width': Found 0 outliers.\n",
            "Verification: New outlier count is 0.\n",
            "----------------------------------------\n",
            "--- Analyzing 'histogram_min': Found 0 outliers.\n",
            "Verification: New outlier count is 0.\n",
            "----------------------------------------\n",
            "--- Analyzing 'histogram_max': Found 24 outliers.\n",
            "Verification: New outlier count is 0.\n",
            "----------------------------------------\n",
            "--- Analyzing 'histogram_number_of_peaks': Found 19 outliers.\n",
            "Verification: New outlier count is 0.\n",
            "----------------------------------------\n",
            "--- Analyzing 'histogram_number_of_zeroes': Found 502 outliers.\n",
            "Verification: New outlier count is 0.\n",
            "----------------------------------------\n",
            "--- Analyzing 'histogram_mode': Found 73 outliers.\n",
            "Verification: New outlier count is 0.\n",
            "----------------------------------------\n",
            "--- Analyzing 'histogram_mean': Found 45 outliers.\n",
            "Verification: New outlier count is 0.\n",
            "----------------------------------------\n",
            "--- Analyzing 'histogram_median': Found 28 outliers.\n",
            "Verification: New outlier count is 0.\n",
            "----------------------------------------\n",
            "--- Analyzing 'histogram_variance': Found 184 outliers.\n",
            "Verification: New outlier count is 0.\n",
            "----------------------------------------\n",
            "--- Analyzing 'histogram_tendency': Found 0 outliers.\n",
            "Verification: New outlier count is 0.\n",
            "----------------------------------------\n",
            "\n",
            "Outlier capping and verification complete!\n"
          ]
        }
      ]
    },
    {
      "cell_type": "markdown",
      "source": [
        "checking Missing values"
      ],
      "metadata": {
        "id": "VJsTV6bFUK68"
      }
    },
    {
      "cell_type": "code",
      "source": [
        "df.isnull().sum()"
      ],
      "metadata": {
        "colab": {
          "base_uri": "https://localhost:8080/",
          "height": 774
        },
        "id": "P7YWfo5hepjd",
        "outputId": "eda755a0-8ab5-45d7-85c9-2376466803d6"
      },
      "execution_count": null,
      "outputs": [
        {
          "output_type": "execute_result",
          "data": {
            "text/plain": [
              "baseline value                                            0\n",
              "accelerations                                             0\n",
              "fetal_movement                                            0\n",
              "uterine_contractions                                      0\n",
              "light_decelerations                                       0\n",
              "severe_decelerations                                      0\n",
              "prolongued_decelerations                                  0\n",
              "abnormal_short_term_variability                           0\n",
              "mean_value_of_short_term_variability                      0\n",
              "percentage_of_time_with_abnormal_long_term_variability    0\n",
              "mean_value_of_long_term_variability                       0\n",
              "histogram_width                                           0\n",
              "histogram_min                                             0\n",
              "histogram_max                                             0\n",
              "histogram_number_of_peaks                                 0\n",
              "histogram_number_of_zeroes                                0\n",
              "histogram_mode                                            0\n",
              "histogram_mean                                            0\n",
              "histogram_median                                          0\n",
              "histogram_variance                                        0\n",
              "histogram_tendency                                        0\n",
              "fetal_health                                              0\n",
              "dtype: int64"
            ],
            "text/html": [
              "<div>\n",
              "<style scoped>\n",
              "    .dataframe tbody tr th:only-of-type {\n",
              "        vertical-align: middle;\n",
              "    }\n",
              "\n",
              "    .dataframe tbody tr th {\n",
              "        vertical-align: top;\n",
              "    }\n",
              "\n",
              "    .dataframe thead th {\n",
              "        text-align: right;\n",
              "    }\n",
              "</style>\n",
              "<table border=\"1\" class=\"dataframe\">\n",
              "  <thead>\n",
              "    <tr style=\"text-align: right;\">\n",
              "      <th></th>\n",
              "      <th>0</th>\n",
              "    </tr>\n",
              "  </thead>\n",
              "  <tbody>\n",
              "    <tr>\n",
              "      <th>baseline value</th>\n",
              "      <td>0</td>\n",
              "    </tr>\n",
              "    <tr>\n",
              "      <th>accelerations</th>\n",
              "      <td>0</td>\n",
              "    </tr>\n",
              "    <tr>\n",
              "      <th>fetal_movement</th>\n",
              "      <td>0</td>\n",
              "    </tr>\n",
              "    <tr>\n",
              "      <th>uterine_contractions</th>\n",
              "      <td>0</td>\n",
              "    </tr>\n",
              "    <tr>\n",
              "      <th>light_decelerations</th>\n",
              "      <td>0</td>\n",
              "    </tr>\n",
              "    <tr>\n",
              "      <th>severe_decelerations</th>\n",
              "      <td>0</td>\n",
              "    </tr>\n",
              "    <tr>\n",
              "      <th>prolongued_decelerations</th>\n",
              "      <td>0</td>\n",
              "    </tr>\n",
              "    <tr>\n",
              "      <th>abnormal_short_term_variability</th>\n",
              "      <td>0</td>\n",
              "    </tr>\n",
              "    <tr>\n",
              "      <th>mean_value_of_short_term_variability</th>\n",
              "      <td>0</td>\n",
              "    </tr>\n",
              "    <tr>\n",
              "      <th>percentage_of_time_with_abnormal_long_term_variability</th>\n",
              "      <td>0</td>\n",
              "    </tr>\n",
              "    <tr>\n",
              "      <th>mean_value_of_long_term_variability</th>\n",
              "      <td>0</td>\n",
              "    </tr>\n",
              "    <tr>\n",
              "      <th>histogram_width</th>\n",
              "      <td>0</td>\n",
              "    </tr>\n",
              "    <tr>\n",
              "      <th>histogram_min</th>\n",
              "      <td>0</td>\n",
              "    </tr>\n",
              "    <tr>\n",
              "      <th>histogram_max</th>\n",
              "      <td>0</td>\n",
              "    </tr>\n",
              "    <tr>\n",
              "      <th>histogram_number_of_peaks</th>\n",
              "      <td>0</td>\n",
              "    </tr>\n",
              "    <tr>\n",
              "      <th>histogram_number_of_zeroes</th>\n",
              "      <td>0</td>\n",
              "    </tr>\n",
              "    <tr>\n",
              "      <th>histogram_mode</th>\n",
              "      <td>0</td>\n",
              "    </tr>\n",
              "    <tr>\n",
              "      <th>histogram_mean</th>\n",
              "      <td>0</td>\n",
              "    </tr>\n",
              "    <tr>\n",
              "      <th>histogram_median</th>\n",
              "      <td>0</td>\n",
              "    </tr>\n",
              "    <tr>\n",
              "      <th>histogram_variance</th>\n",
              "      <td>0</td>\n",
              "    </tr>\n",
              "    <tr>\n",
              "      <th>histogram_tendency</th>\n",
              "      <td>0</td>\n",
              "    </tr>\n",
              "    <tr>\n",
              "      <th>fetal_health</th>\n",
              "      <td>0</td>\n",
              "    </tr>\n",
              "  </tbody>\n",
              "</table>\n",
              "</div><br><label><b>dtype:</b> int64</label>"
            ]
          },
          "metadata": {},
          "execution_count": 3
        }
      ]
    },
    {
      "cell_type": "markdown",
      "source": [
        "# Feature Engineering"
      ],
      "metadata": {
        "id": "rK_A1u_HURzP"
      }
    },
    {
      "cell_type": "code",
      "source": [
        "\n",
        "df['total_decelerations'] = df['light_decelerations'] + df['severe_decelerations'] + df['prolongued_decelerations']\n",
        "\n",
        "\n",
        "print(df[['light_decelerations', 'severe_decelerations', 'prolongued_decelerations', 'total_decelerations']])"
      ],
      "metadata": {
        "colab": {
          "base_uri": "https://localhost:8080/"
        },
        "id": "30eIDr68mFrG",
        "outputId": "90fd3d6a-95a7-4aa5-8d1b-652231850430"
      },
      "execution_count": null,
      "outputs": [
        {
          "output_type": "stream",
          "name": "stdout",
          "text": [
            "      light_decelerations  severe_decelerations  prolongued_decelerations  \\\n",
            "0                   0.000                   0.0                       0.0   \n",
            "1                   0.003                   0.0                       0.0   \n",
            "2                   0.003                   0.0                       0.0   \n",
            "3                   0.003                   0.0                       0.0   \n",
            "4                   0.000                   0.0                       0.0   \n",
            "...                   ...                   ...                       ...   \n",
            "2121                0.000                   0.0                       0.0   \n",
            "2122                0.000                   0.0                       0.0   \n",
            "2123                0.000                   0.0                       0.0   \n",
            "2124                0.000                   0.0                       0.0   \n",
            "2125                0.000                   0.0                       0.0   \n",
            "\n",
            "      total_decelerations  \n",
            "0                   0.000  \n",
            "1                   0.003  \n",
            "2                   0.003  \n",
            "3                   0.003  \n",
            "4                   0.000  \n",
            "...                   ...  \n",
            "2121                0.000  \n",
            "2122                0.000  \n",
            "2123                0.000  \n",
            "2124                0.000  \n",
            "2125                0.000  \n",
            "\n",
            "[2126 rows x 4 columns]\n"
          ]
        }
      ]
    },
    {
      "cell_type": "code",
      "source": [
        "df['accel_decel_ratio'] = np.where(\n",
        "    df['total_decelerations'] == 0,\n",
        "    0,\n",
        "    df['accelerations'] / df['total_decelerations']\n",
        ")\n",
        "\n",
        "\n",
        "print(df[['accelerations', 'total_decelerations', 'accel_decel_ratio']].head())"
      ],
      "metadata": {
        "colab": {
          "base_uri": "https://localhost:8080/"
        },
        "id": "rgTstXZdoyqF",
        "outputId": "83b51cc8-5cd6-4504-bf5e-96a263111127"
      },
      "execution_count": null,
      "outputs": [
        {
          "output_type": "stream",
          "name": "stdout",
          "text": [
            "   accelerations  total_decelerations  accel_decel_ratio\n",
            "0          0.000                0.000                0.0\n",
            "1          0.006                0.003                2.0\n",
            "2          0.003                0.003                1.0\n",
            "3          0.003                0.003                1.0\n",
            "4          0.007                0.000                0.0\n"
          ]
        }
      ]
    },
    {
      "cell_type": "code",
      "source": [
        "from sklearn.model_selection import train_test_split\n",
        "\n",
        "X = df.drop('fetal_health', axis=1)\n",
        "y = df['fetal_health']\n",
        "\n",
        "X_train, X_test, y_train, y_test = train_test_split(X, y, test_size=0.2, random_state=42)\n",
        "\n",
        "print(\"Shape of our original features (X):\", X.shape)\n",
        "print(\"Shape of our training features (X_train):\", X_train.shape)\n",
        "print(\"Shape of our testing features (X_test):\", X_test.shape)"
      ],
      "metadata": {
        "colab": {
          "base_uri": "https://localhost:8080/"
        },
        "id": "bIHk1Da7sxmC",
        "outputId": "be8fd777-611e-4124-f73e-d485605e28a0"
      },
      "execution_count": null,
      "outputs": [
        {
          "output_type": "stream",
          "name": "stdout",
          "text": [
            "Shape of our original features (X): (2126, 23)\n",
            "Shape of our training features (X_train): (1700, 23)\n",
            "Shape of our testing features (X_test): (426, 23)\n"
          ]
        }
      ]
    },
    {
      "cell_type": "markdown",
      "source": [
        "# Over sampling"
      ],
      "metadata": {
        "id": "zuPdl8FBUd02"
      }
    },
    {
      "cell_type": "code",
      "source": [
        "print(y_train.value_counts())"
      ],
      "metadata": {
        "colab": {
          "base_uri": "https://localhost:8080/"
        },
        "id": "5V2pAeOls4OT",
        "outputId": "8c19b44e-94ec-42bf-b2bc-a4ff0812c837"
      },
      "execution_count": null,
      "outputs": [
        {
          "output_type": "stream",
          "name": "stdout",
          "text": [
            "fetal_health\n",
            "0    1322\n",
            "1     378\n",
            "Name: count, dtype: int64\n"
          ]
        }
      ]
    },
    {
      "cell_type": "markdown",
      "source": [
        "Smote"
      ],
      "metadata": {
        "id": "hkFJQ53jUZ67"
      }
    },
    {
      "cell_type": "code",
      "source": [
        "\n",
        "from imblearn.over_sampling import SMOTE\n",
        "\n",
        "smote = SMOTE(random_state=42)\n",
        "\n",
        "X_train_smote, y_train_smote = smote.fit_resample(X_train, y_train)\n",
        "\n",
        "print(\"Original training set shape:\", y_train.shape)\n",
        "print(\"Original training set class distribution:\")\n",
        "print(y_train.value_counts())\n",
        "\n",
        "print(\"\\nResampled training set shape:\", y_train_smote.shape)\n",
        "print(\"Resampled training set class distribution:\")\n",
        "print(y_train_smote.value_counts())"
      ],
      "metadata": {
        "colab": {
          "base_uri": "https://localhost:8080/"
        },
        "id": "PA7uql5Tuz3u",
        "outputId": "68bf41d6-708d-4a6b-b045-82f0de773810"
      },
      "execution_count": null,
      "outputs": [
        {
          "output_type": "stream",
          "name": "stdout",
          "text": [
            "Original training set shape: (1700,)\n",
            "Original training set class distribution:\n",
            "fetal_health\n",
            "0    1322\n",
            "1     378\n",
            "Name: count, dtype: int64\n",
            "\n",
            "Resampled training set shape: (2644,)\n",
            "Resampled training set class distribution:\n",
            "fetal_health\n",
            "0    1322\n",
            "1    1322\n",
            "Name: count, dtype: int64\n"
          ]
        }
      ]
    },
    {
      "cell_type": "markdown",
      "source": [
        "**Scaling**"
      ],
      "metadata": {
        "id": "X4h56Cb0P0hF"
      }
    },
    {
      "cell_type": "code",
      "source": [
        "\n",
        "from sklearn.preprocessing import StandardScaler\n",
        "\n",
        "\n",
        "scaler = StandardScaler()\n",
        "\n",
        "X_train_scaled = scaler.fit_transform(X_train_smote)\n",
        "\n",
        "X_test_scaled = scaler.transform(X_test)\n",
        "\n",
        "print(\"Mean of the first feature in X_train_scaled:\", X_train_scaled[:, 0].mean())\n",
        "\n",
        "print(\"Standard Deviation of the first feature in X_train_scaled:\", X_train_scaled[:, 0].std())"
      ],
      "metadata": {
        "colab": {
          "base_uri": "https://localhost:8080/"
        },
        "id": "Q6Mcp9GnP2-N",
        "outputId": "bc8db295-0d91-43ce-9b2c-087de9e791c6"
      },
      "execution_count": null,
      "outputs": [
        {
          "output_type": "stream",
          "name": "stdout",
          "text": [
            "Mean of the first feature in X_train_scaled: 1.3006909383808189e-15\n",
            "Standard Deviation of the first feature in X_train_scaled: 1.0\n"
          ]
        }
      ]
    },
    {
      "cell_type": "markdown",
      "source": [
        "# Logistic Regression"
      ],
      "metadata": {
        "id": "htJButkIUldU"
      }
    },
    {
      "cell_type": "markdown",
      "source": [
        "Train"
      ],
      "metadata": {
        "id": "APAIJvhIUpcm"
      }
    },
    {
      "cell_type": "code",
      "source": [
        "\n",
        "from sklearn.linear_model import LogisticRegression\n",
        "\n",
        "\n",
        "log_reg = LogisticRegression(random_state=42)\n",
        "\n",
        "log_reg.fit(X_train_scaled, y_train_smote)\n",
        "\n",
        "print(\"Logistic Regression model has been successfully trained!\")"
      ],
      "metadata": {
        "colab": {
          "base_uri": "https://localhost:8080/"
        },
        "id": "L4yKc87fQR7s",
        "outputId": "41d8088a-ca28-4498-e2db-927520731e5f"
      },
      "execution_count": null,
      "outputs": [
        {
          "output_type": "stream",
          "name": "stdout",
          "text": [
            "Logistic Regression model has been successfully trained!\n"
          ]
        }
      ]
    },
    {
      "cell_type": "markdown",
      "source": [
        "Evaluation(Testing)"
      ],
      "metadata": {
        "id": "qRBjHGGZUt01"
      }
    },
    {
      "cell_type": "code",
      "source": [
        "\n",
        "from sklearn.metrics import classification_report, confusion_matrix, accuracy_score\n",
        "\n",
        "y_pred_log_reg = log_reg.predict(X_test_scaled)\n",
        "\n",
        "\n",
        "accuracy = accuracy_score(y_test, y_pred_log_reg)\n",
        "print(f\"Overall Accuracy: {accuracy:.2f}\")\n",
        "print(\"-\" * 30)\n",
        "\n",
        "\n",
        "print(\"Confusion Matrix:\")\n",
        "print(confusion_matrix(y_test, y_pred_log_reg))\n",
        "print(\"-\" * 30)\n",
        "\n",
        "print(\"Classification Report:\")\n",
        "print(classification_report(y_test, y_pred_log_reg))"
      ],
      "metadata": {
        "colab": {
          "base_uri": "https://localhost:8080/"
        },
        "id": "sA9mCTmoYSRs",
        "outputId": "fe29b571-f2d8-4377-a4fe-15cf63f13dad"
      },
      "execution_count": null,
      "outputs": [
        {
          "output_type": "stream",
          "name": "stdout",
          "text": [
            "Overall Accuracy: 0.85\n",
            "------------------------------\n",
            "Confusion Matrix:\n",
            "[[278  55]\n",
            " [  9  84]]\n",
            "------------------------------\n",
            "Classification Report:\n",
            "              precision    recall  f1-score   support\n",
            "\n",
            "           0       0.97      0.83      0.90       333\n",
            "           1       0.60      0.90      0.72        93\n",
            "\n",
            "    accuracy                           0.85       426\n",
            "   macro avg       0.79      0.87      0.81       426\n",
            "weighted avg       0.89      0.85      0.86       426\n",
            "\n"
          ]
        }
      ]
    },
    {
      "cell_type": "markdown",
      "source": [
        "# **SVM**"
      ],
      "metadata": {
        "id": "poQOxOn5bTuK"
      }
    },
    {
      "cell_type": "markdown",
      "source": [
        "Train"
      ],
      "metadata": {
        "id": "3bbudGaMU7Kn"
      }
    },
    {
      "cell_type": "code",
      "source": [
        "\n",
        "from sklearn.svm import SVC\n",
        "\n",
        "svm_model = SVC(kernel='rbf', random_state=42)\n",
        "\n",
        "svm_model.fit(X_train_scaled, y_train_smote)\n",
        "\n",
        "print(\"SVM model has been successfully trained!\")"
      ],
      "metadata": {
        "colab": {
          "base_uri": "https://localhost:8080/"
        },
        "id": "qfde1PGgbZbt",
        "outputId": "5da721c9-6e3b-4b30-dffd-5f124a068f78"
      },
      "execution_count": null,
      "outputs": [
        {
          "output_type": "stream",
          "name": "stdout",
          "text": [
            "SVM model has been successfully trained!\n"
          ]
        }
      ]
    },
    {
      "cell_type": "markdown",
      "source": [
        "Testing"
      ],
      "metadata": {
        "id": "90LH9bxTU-H2"
      }
    },
    {
      "cell_type": "code",
      "source": [
        "\n",
        "from sklearn.metrics import classification_report, confusion_matrix, accuracy_score\n",
        "\n",
        "y_pred_svm = svm_model.predict(X_test_scaled)\n",
        "\n",
        "accuracy_svm = accuracy_score(y_test, y_pred_svm)\n",
        "print(f\"Overall Accuracy (SVM): {accuracy_svm:.2f}\")\n",
        "print(\"-\" * 30)\n",
        "\n",
        "print(\"Confusion Matrix (SVM):\")\n",
        "print(confusion_matrix(y_test, y_pred_svm))\n",
        "print(\"-\" * 30)\n",
        "\n",
        "print(\"Classification Report (SVM):\")\n",
        "print(classification_report(y_test, y_pred_svm))"
      ],
      "metadata": {
        "colab": {
          "base_uri": "https://localhost:8080/"
        },
        "id": "hSz_KgzHbcOK",
        "outputId": "014a05f6-f693-4513-b762-5138cb419138"
      },
      "execution_count": null,
      "outputs": [
        {
          "output_type": "stream",
          "name": "stdout",
          "text": [
            "Overall Accuracy (SVM): 0.90\n",
            "------------------------------\n",
            "Confusion Matrix (SVM):\n",
            "[[299  34]\n",
            " [  7  86]]\n",
            "------------------------------\n",
            "Classification Report (SVM):\n",
            "              precision    recall  f1-score   support\n",
            "\n",
            "           0       0.98      0.90      0.94       333\n",
            "           1       0.72      0.92      0.81        93\n",
            "\n",
            "    accuracy                           0.90       426\n",
            "   macro avg       0.85      0.91      0.87       426\n",
            "weighted avg       0.92      0.90      0.91       426\n",
            "\n"
          ]
        }
      ]
    },
    {
      "cell_type": "markdown",
      "source": [
        "# Hyperparameter Tuning"
      ],
      "metadata": {
        "id": "8UE8bB0mrYpC"
      }
    },
    {
      "cell_type": "markdown",
      "source": [
        "**GRID Search in SVM**"
      ],
      "metadata": {
        "id": "fM5XHuBocOt1"
      }
    },
    {
      "cell_type": "code",
      "source": [
        "\n",
        "from sklearn.model_selection import GridSearchCV\n",
        "\n",
        "param_grid_svm = {\n",
        "    'C': [0.1, 1, 10, 100],\n",
        "    'gamma': [1, 0.1, 0.01, 0.001]\n",
        "}\n",
        "\n",
        "grid_svm = GridSearchCV(SVC(random_state=42), param_grid_svm, refit=True, verbose=2)\n",
        "\n",
        "grid_svm.fit(X_train_scaled, y_train_smote)\n",
        "\n",
        "print(\"\\nBest parameters found for SVM:\", grid_svm.best_params_)"
      ],
      "metadata": {
        "colab": {
          "base_uri": "https://localhost:8080/"
        },
        "id": "0KLAmOHvcSfN",
        "outputId": "a031902b-048c-4d58-a20a-4bf88ddbff5f"
      },
      "execution_count": null,
      "outputs": [
        {
          "output_type": "stream",
          "name": "stdout",
          "text": [
            "Fitting 5 folds for each of 16 candidates, totalling 80 fits\n",
            "[CV] END .....................................C=0.1, gamma=1; total time=   0.3s\n",
            "[CV] END .....................................C=0.1, gamma=1; total time=   0.3s\n",
            "[CV] END .....................................C=0.1, gamma=1; total time=   0.3s\n",
            "[CV] END .....................................C=0.1, gamma=1; total time=   0.3s\n",
            "[CV] END .....................................C=0.1, gamma=1; total time=   0.4s\n",
            "[CV] END ...................................C=0.1, gamma=0.1; total time=   0.3s\n",
            "[CV] END ...................................C=0.1, gamma=0.1; total time=   0.3s\n",
            "[CV] END ...................................C=0.1, gamma=0.1; total time=   0.3s\n",
            "[CV] END ...................................C=0.1, gamma=0.1; total time=   0.3s\n",
            "[CV] END ...................................C=0.1, gamma=0.1; total time=   0.3s\n",
            "[CV] END ..................................C=0.1, gamma=0.01; total time=   0.3s\n",
            "[CV] END ..................................C=0.1, gamma=0.01; total time=   0.3s\n",
            "[CV] END ..................................C=0.1, gamma=0.01; total time=   0.3s\n",
            "[CV] END ..................................C=0.1, gamma=0.01; total time=   0.3s\n",
            "[CV] END ..................................C=0.1, gamma=0.01; total time=   0.3s\n",
            "[CV] END .................................C=0.1, gamma=0.001; total time=   0.6s\n",
            "[CV] END .................................C=0.1, gamma=0.001; total time=   0.5s\n",
            "[CV] END .................................C=0.1, gamma=0.001; total time=   0.5s\n",
            "[CV] END .................................C=0.1, gamma=0.001; total time=   0.5s\n",
            "[CV] END .................................C=0.1, gamma=0.001; total time=   0.5s\n",
            "[CV] END .......................................C=1, gamma=1; total time=   0.7s\n",
            "[CV] END .......................................C=1, gamma=1; total time=   0.8s\n",
            "[CV] END .......................................C=1, gamma=1; total time=   0.6s\n",
            "[CV] END .......................................C=1, gamma=1; total time=   0.7s\n",
            "[CV] END .......................................C=1, gamma=1; total time=   0.5s\n",
            "[CV] END .....................................C=1, gamma=0.1; total time=   0.2s\n",
            "[CV] END .....................................C=1, gamma=0.1; total time=   0.2s\n",
            "[CV] END .....................................C=1, gamma=0.1; total time=   0.2s\n",
            "[CV] END .....................................C=1, gamma=0.1; total time=   0.2s\n",
            "[CV] END .....................................C=1, gamma=0.1; total time=   0.2s\n",
            "[CV] END ....................................C=1, gamma=0.01; total time=   0.2s\n",
            "[CV] END ....................................C=1, gamma=0.01; total time=   0.2s\n",
            "[CV] END ....................................C=1, gamma=0.01; total time=   0.2s\n",
            "[CV] END ....................................C=1, gamma=0.01; total time=   0.2s\n",
            "[CV] END ....................................C=1, gamma=0.01; total time=   0.2s\n",
            "[CV] END ...................................C=1, gamma=0.001; total time=   0.2s\n",
            "[CV] END ...................................C=1, gamma=0.001; total time=   0.3s\n",
            "[CV] END ...................................C=1, gamma=0.001; total time=   0.3s\n",
            "[CV] END ...................................C=1, gamma=0.001; total time=   0.3s\n",
            "[CV] END ...................................C=1, gamma=0.001; total time=   0.3s\n",
            "[CV] END ......................................C=10, gamma=1; total time=   0.5s\n",
            "[CV] END ......................................C=10, gamma=1; total time=   0.7s\n",
            "[CV] END ......................................C=10, gamma=1; total time=   1.1s\n",
            "[CV] END ......................................C=10, gamma=1; total time=   0.8s\n",
            "[CV] END ......................................C=10, gamma=1; total time=   0.8s\n",
            "[CV] END ....................................C=10, gamma=0.1; total time=   0.1s\n",
            "[CV] END ....................................C=10, gamma=0.1; total time=   0.1s\n",
            "[CV] END ....................................C=10, gamma=0.1; total time=   0.1s\n",
            "[CV] END ....................................C=10, gamma=0.1; total time=   0.1s\n",
            "[CV] END ....................................C=10, gamma=0.1; total time=   0.1s\n",
            "[CV] END ...................................C=10, gamma=0.01; total time=   0.1s\n",
            "[CV] END ...................................C=10, gamma=0.01; total time=   0.1s\n",
            "[CV] END ...................................C=10, gamma=0.01; total time=   0.2s\n",
            "[CV] END ...................................C=10, gamma=0.01; total time=   0.1s\n",
            "[CV] END ...................................C=10, gamma=0.01; total time=   0.1s\n",
            "[CV] END ..................................C=10, gamma=0.001; total time=   0.2s\n",
            "[CV] END ..................................C=10, gamma=0.001; total time=   0.2s\n",
            "[CV] END ..................................C=10, gamma=0.001; total time=   0.2s\n",
            "[CV] END ..................................C=10, gamma=0.001; total time=   0.2s\n",
            "[CV] END ..................................C=10, gamma=0.001; total time=   0.1s\n",
            "[CV] END .....................................C=100, gamma=1; total time=   0.4s\n",
            "[CV] END .....................................C=100, gamma=1; total time=   0.4s\n",
            "[CV] END .....................................C=100, gamma=1; total time=   0.4s\n",
            "[CV] END .....................................C=100, gamma=1; total time=   0.5s\n",
            "[CV] END .....................................C=100, gamma=1; total time=   0.6s\n",
            "[CV] END ...................................C=100, gamma=0.1; total time=   0.1s\n",
            "[CV] END ...................................C=100, gamma=0.1; total time=   0.2s\n",
            "[CV] END ...................................C=100, gamma=0.1; total time=   0.1s\n",
            "[CV] END ...................................C=100, gamma=0.1; total time=   0.2s\n",
            "[CV] END ...................................C=100, gamma=0.1; total time=   0.2s\n",
            "[CV] END ..................................C=100, gamma=0.01; total time=   0.2s\n",
            "[CV] END ..................................C=100, gamma=0.01; total time=   0.3s\n",
            "[CV] END ..................................C=100, gamma=0.01; total time=   0.2s\n",
            "[CV] END ..................................C=100, gamma=0.01; total time=   0.2s\n",
            "[CV] END ..................................C=100, gamma=0.01; total time=   0.2s\n",
            "[CV] END .................................C=100, gamma=0.001; total time=   0.4s\n",
            "[CV] END .................................C=100, gamma=0.001; total time=   0.2s\n",
            "[CV] END .................................C=100, gamma=0.001; total time=   0.1s\n",
            "[CV] END .................................C=100, gamma=0.001; total time=   0.2s\n",
            "[CV] END .................................C=100, gamma=0.001; total time=   0.2s\n",
            "\n",
            "Best parameters found for SVM: {'C': 100, 'gamma': 0.1}\n"
          ]
        }
      ]
    },
    {
      "cell_type": "markdown",
      "source": [
        " **Performance of the TUNED SVM Model**"
      ],
      "metadata": {
        "id": "6e0lZLhL0Nlp"
      }
    },
    {
      "cell_type": "code",
      "source": [
        "\n",
        "from sklearn.metrics import classification_report, confusion_matrix, accuracy_score\n",
        "\n",
        "y_pred_svm_tuned = grid_svm.predict(X_test_scaled)\n",
        "\n",
        "print(\"--- Performance of the TUNED SVM Model ---\")\n",
        "\n",
        "accuracy_svm_tuned = accuracy_score(y_test, y_pred_svm_tuned)\n",
        "print(f\"Overall Accuracy (Tuned SVM): {accuracy_svm_tuned:.2f}\")\n",
        "print(\"-\" * 30)\n",
        "\n",
        "print(\"Confusion Matrix (Tuned SVM):\")\n",
        "print(confusion_matrix(y_test, y_pred_svm_tuned))\n",
        "print(\"-\" * 30)\n",
        "\n",
        "print(\"Classification Report (Tuned SVM):\")\n",
        "print(classification_report(y_test, y_pred_svm_tuned))"
      ],
      "metadata": {
        "colab": {
          "base_uri": "https://localhost:8080/"
        },
        "id": "nbv4UswwcltW",
        "outputId": "8242ce06-7c81-4e48-a3d3-b4bb682c21f2"
      },
      "execution_count": null,
      "outputs": [
        {
          "output_type": "stream",
          "name": "stdout",
          "text": [
            "--- Performance of the TUNED SVM Model ---\n",
            "Overall Accuracy (Tuned SVM): 0.95\n",
            "------------------------------\n",
            "Confusion Matrix (Tuned SVM):\n",
            "[[322  11]\n",
            " [ 11  82]]\n",
            "------------------------------\n",
            "Classification Report (Tuned SVM):\n",
            "              precision    recall  f1-score   support\n",
            "\n",
            "           0       0.97      0.97      0.97       333\n",
            "           1       0.88      0.88      0.88        93\n",
            "\n",
            "    accuracy                           0.95       426\n",
            "   macro avg       0.92      0.92      0.92       426\n",
            "weighted avg       0.95      0.95      0.95       426\n",
            "\n"
          ]
        }
      ]
    },
    {
      "cell_type": "markdown",
      "source": [
        "**Grid search in Logistic Regression**"
      ],
      "metadata": {
        "id": "f-egegyG0QMc"
      }
    },
    {
      "cell_type": "code",
      "source": [
        "\n",
        "from sklearn.model_selection import GridSearchCV\n",
        "\n",
        "param_grid_log_reg = {\n",
        "    'C': [0.001, 0.01, 0.1, 1, 10, 100, 1000]\n",
        "}\n",
        "\n",
        "grid_log_reg = GridSearchCV(LogisticRegression(random_state=42), param_grid_log_reg, refit=True, verbose=2)\n",
        "\n",
        "grid_log_reg.fit(X_train_scaled, y_train_smote)\n",
        "\n",
        "print(\"\\nBest parameters found for Logistic Regression:\", grid_log_reg.best_params_)"
      ],
      "metadata": {
        "colab": {
          "base_uri": "https://localhost:8080/"
        },
        "id": "ZUxij4pGcoA1",
        "outputId": "c9cc2e07-53ad-413f-ff1a-c59077eafb28"
      },
      "execution_count": null,
      "outputs": [
        {
          "output_type": "stream",
          "name": "stdout",
          "text": [
            "Fitting 5 folds for each of 7 candidates, totalling 35 fits\n",
            "[CV] END ............................................C=0.001; total time=   0.1s\n",
            "[CV] END ............................................C=0.001; total time=   0.0s\n",
            "[CV] END ............................................C=0.001; total time=   0.0s\n",
            "[CV] END ............................................C=0.001; total time=   0.0s\n",
            "[CV] END ............................................C=0.001; total time=   0.0s\n",
            "[CV] END .............................................C=0.01; total time=   0.1s\n",
            "[CV] END .............................................C=0.01; total time=   0.1s\n",
            "[CV] END .............................................C=0.01; total time=   0.0s\n",
            "[CV] END .............................................C=0.01; total time=   0.0s\n",
            "[CV] END .............................................C=0.01; total time=   0.0s\n",
            "[CV] END ..............................................C=0.1; total time=   0.0s\n",
            "[CV] END ..............................................C=0.1; total time=   0.0s\n",
            "[CV] END ..............................................C=0.1; total time=   0.0s\n",
            "[CV] END ..............................................C=0.1; total time=   0.0s\n",
            "[CV] END ..............................................C=0.1; total time=   0.0s\n",
            "[CV] END ................................................C=1; total time=   0.2s\n",
            "[CV] END ................................................C=1; total time=   0.1s\n",
            "[CV] END ................................................C=1; total time=   0.0s\n",
            "[CV] END ................................................C=1; total time=   0.1s\n",
            "[CV] END ................................................C=1; total time=   0.1s\n",
            "[CV] END ...............................................C=10; total time=   0.1s\n",
            "[CV] END ...............................................C=10; total time=   0.0s\n",
            "[CV] END ...............................................C=10; total time=   0.1s\n",
            "[CV] END ...............................................C=10; total time=   0.1s\n",
            "[CV] END ...............................................C=10; total time=   0.1s\n",
            "[CV] END ..............................................C=100; total time=   0.1s\n",
            "[CV] END ..............................................C=100; total time=   0.1s\n",
            "[CV] END ..............................................C=100; total time=   0.1s\n",
            "[CV] END ..............................................C=100; total time=   0.1s\n",
            "[CV] END ..............................................C=100; total time=   0.1s\n",
            "[CV] END .............................................C=1000; total time=   0.1s\n",
            "[CV] END .............................................C=1000; total time=   0.1s\n",
            "[CV] END .............................................C=1000; total time=   0.2s\n",
            "[CV] END .............................................C=1000; total time=   0.2s\n",
            "[CV] END .............................................C=1000; total time=   0.1s\n",
            "\n",
            "Best parameters found for Logistic Regression: {'C': 10}\n"
          ]
        }
      ]
    },
    {
      "cell_type": "markdown",
      "source": [
        "**Performance of the TUNED Logistic Regression**"
      ],
      "metadata": {
        "id": "da1uUr0A0sT3"
      }
    },
    {
      "cell_type": "code",
      "source": [
        "\n",
        "from sklearn.metrics import classification_report, confusion_matrix, accuracy_score\n",
        "\n",
        "y_pred_log_reg_tuned = grid_log_reg.predict(X_test_scaled)\n",
        "\n",
        "print(\"--- Performance of the TUNED Logistic Regression Model ---\")\n",
        "\n",
        "accuracy_log_reg_tuned = accuracy_score(y_test, y_pred_log_reg_tuned)\n",
        "print(f\"Overall Accuracy (Tuned LogReg): {accuracy_log_reg_tuned:.2f}\")\n",
        "print(\"-\" * 30)\n",
        "\n",
        "print(\"Confusion Matrix (Tuned LogReg):\")\n",
        "print(confusion_matrix(y_test, y_pred_log_reg_tuned))\n",
        "print(\"-\" * 30)\n",
        "\n",
        "print(\"Classification Report (Tuned LogReg):\")\n",
        "print(classification_report(y_test, y_pred_log_reg_tuned))"
      ],
      "metadata": {
        "colab": {
          "base_uri": "https://localhost:8080/"
        },
        "id": "Uxkra4cmdZsb",
        "outputId": "89c35fa4-d654-4b11-98da-f6a9e6b6afd6"
      },
      "execution_count": null,
      "outputs": [
        {
          "output_type": "stream",
          "name": "stdout",
          "text": [
            "--- Performance of the TUNED Logistic Regression Model ---\n",
            "Overall Accuracy (Tuned LogReg): 0.85\n",
            "------------------------------\n",
            "Confusion Matrix (Tuned LogReg):\n",
            "[[277  56]\n",
            " [  9  84]]\n",
            "------------------------------\n",
            "Classification Report (Tuned LogReg):\n",
            "              precision    recall  f1-score   support\n",
            "\n",
            "           0       0.97      0.83      0.89       333\n",
            "           1       0.60      0.90      0.72        93\n",
            "\n",
            "    accuracy                           0.85       426\n",
            "   macro avg       0.78      0.87      0.81       426\n",
            "weighted avg       0.89      0.85      0.86       426\n",
            "\n"
          ]
        }
      ]
    },
    {
      "cell_type": "markdown",
      "source": [
        "# Cross-Validation"
      ],
      "metadata": {
        "id": "LfwZQDEN1tUQ"
      }
    },
    {
      "cell_type": "markdown",
      "source": [
        "**Logistic Regression Cross-Validation**"
      ],
      "metadata": {
        "id": "Hw3YTEwe1JCi"
      }
    },
    {
      "cell_type": "code",
      "source": [
        "from sklearn.model_selection import cross_val_score\n",
        "from sklearn.pipeline import Pipeline\n",
        "from sklearn.preprocessing import StandardScaler\n",
        "from sklearn.linear_model import LogisticRegression\n",
        "import numpy as np\n",
        "\n",
        "pipeline_log_reg = Pipeline([\n",
        "    ('scaler', StandardScaler()),\n",
        "    ('classifier', LogisticRegression(random_state=42))\n",
        "])\n",
        "\n",
        "cv_scores_log_reg = cross_val_score(pipeline_log_reg, X, y, cv=5, scoring='accuracy')\n",
        "\n",
        "\n",
        "print(\"Logistic Regression Cross-Validation Scores (5 folds):\", cv_scores_log_reg)\n",
        "print(f\"Average Accuracy: {np.mean(cv_scores_log_reg):.2f}\")\n",
        "print(f\"Standard Deviation: {np.std(cv_scores_log_reg):.2f}\")"
      ],
      "metadata": {
        "colab": {
          "base_uri": "https://localhost:8080/"
        },
        "id": "8wEO5CA3d-bO",
        "outputId": "dad21832-d419-48b1-daa4-6b54dff7579a"
      },
      "execution_count": null,
      "outputs": [
        {
          "output_type": "stream",
          "name": "stdout",
          "text": [
            "Logistic Regression Cross-Validation Scores (5 folds): [0.86619718 0.91529412 0.93647059 0.86117647 0.74823529]\n",
            "Average Accuracy: 0.87\n",
            "Standard Deviation: 0.07\n"
          ]
        }
      ]
    },
    {
      "cell_type": "markdown",
      "source": [
        "**SVM Cross-Validation**"
      ],
      "metadata": {
        "id": "uaTFNFdy1W98"
      }
    },
    {
      "cell_type": "code",
      "source": [
        "from sklearn.model_selection import cross_val_score\n",
        "from sklearn.pipeline import Pipeline\n",
        "from sklearn.preprocessing import StandardScaler\n",
        "from sklearn.svm import SVC\n",
        "import numpy as np\n",
        "\n",
        "\n",
        "pipeline_svm = Pipeline([\n",
        "    ('scaler', StandardScaler()),\n",
        "    ('classifier', SVC(random_state=42))\n",
        "])\n",
        "\n",
        "cv_scores_svm = cross_val_score(pipeline_svm, X, y, cv=5, scoring='accuracy')\n",
        "\n",
        "print(\"SVM Cross-Validation Scores (5 folds):\", cv_scores_svm)\n",
        "print(f\"Average Accuracy: {np.mean(cv_scores_svm):.2f}\")\n",
        "print(f\"Standard Deviation: {np.std(cv_scores_svm):.2f}\")"
      ],
      "metadata": {
        "colab": {
          "base_uri": "https://localhost:8080/"
        },
        "id": "7zYD82WQeBet",
        "outputId": "e93e1513-7e38-41b0-e162-36ac7425f363"
      },
      "execution_count": null,
      "outputs": [
        {
          "output_type": "stream",
          "name": "stdout",
          "text": [
            "SVM Cross-Validation Scores (5 folds): [0.85211268 0.90823529 0.92235294 0.84470588 0.72470588]\n",
            "Average Accuracy: 0.85\n",
            "Standard Deviation: 0.07\n"
          ]
        }
      ]
    },
    {
      "cell_type": "markdown",
      "source": [
        "# **ROC Curve Comparison**"
      ],
      "metadata": {
        "id": "P3S_13oC1ekG"
      }
    },
    {
      "cell_type": "code",
      "source": [
        "import matplotlib.pyplot as plt\n",
        "from sklearn.metrics import roc_curve, auc\n",
        "\n",
        "\n",
        "from sklearn.model_selection import GridSearchCV\n",
        "from sklearn.svm import SVC\n",
        "\n",
        "param_grid_svm = {\n",
        "    'C': [0.1, 1, 10, 100],\n",
        "    'gamma': [1, 0.1, 0.01, 0.001]\n",
        "}\n",
        "\n",
        "grid_svm = GridSearchCV(SVC(kernel='rbf', random_state=42, probability=True), param_grid_svm, refit=True, verbose=2)\n",
        "\n",
        "print(\"Re-running Grid Search for SVM with probability=True...\")\n",
        "grid_svm.fit(X_train_scaled, y_train_smote)\n",
        "print(\"Grid Search for SVM complete.\")\n",
        "print(\"\\nBest parameters found for SVM after re-running:\", grid_svm.best_params_)\n",
        "\n",
        "probs_svm = grid_svm.predict_proba(X_test_scaled)[:, 1]\n",
        "probs_log_reg = grid_log_reg.predict_proba(X_test_scaled)[:, 1]\n",
        "fpr_svm, tpr_svm, _ = roc_curve(y_test, probs_svm)\n",
        "fpr_log_reg, tpr_log_reg, _ = roc_curve(y_test, probs_log_reg)\n",
        "\n",
        "auc_svm = auc(fpr_svm, tpr_svm)\n",
        "auc_log_reg = auc(fpr_log_reg, tpr_log_reg)\n",
        "\n",
        "plt.figure(figsize=(8, 6))\n",
        "\n",
        "plt.plot(fpr_svm, tpr_svm, label=f'Tuned SVM (AUC = {auc_svm:.2f})')\n",
        "\n",
        "plt.plot(fpr_log_reg, tpr_log_reg, label=f'Tuned LogReg (AUC = {auc_log_reg:.2f})')\n",
        "\n",
        "plt.plot([0, 1], [0, 1], 'k--', label='Random Guess')\n",
        "\n",
        "# --- 5. Final Touches ---\n",
        "plt.xlabel('False Positive Rate')\n",
        "plt.ylabel('True Positive Rate')\n",
        "plt.title('ROC Curve Comparison')\n",
        "plt.legend()\n",
        "plt.grid()\n",
        "plt.show()"
      ],
      "metadata": {
        "colab": {
          "base_uri": "https://localhost:8080/",
          "height": 1000
        },
        "id": "AZ4PwQF-eq3u",
        "outputId": "849f73de-bc77-4438-8ebc-9ee16f94b0ad"
      },
      "execution_count": null,
      "outputs": [
        {
          "output_type": "stream",
          "name": "stdout",
          "text": [
            "Re-running Grid Search for SVM with probability=True...\n",
            "Fitting 5 folds for each of 16 candidates, totalling 80 fits\n",
            "[CV] END .....................................C=0.1, gamma=1; total time=   1.3s\n",
            "[CV] END .....................................C=0.1, gamma=1; total time=   2.0s\n",
            "[CV] END .....................................C=0.1, gamma=1; total time=   1.8s\n",
            "[CV] END .....................................C=0.1, gamma=1; total time=   1.3s\n",
            "[CV] END .....................................C=0.1, gamma=1; total time=   1.3s\n",
            "[CV] END ...................................C=0.1, gamma=0.1; total time=   0.7s\n",
            "[CV] END ...................................C=0.1, gamma=0.1; total time=   0.7s\n",
            "[CV] END ...................................C=0.1, gamma=0.1; total time=   0.7s\n",
            "[CV] END ...................................C=0.1, gamma=0.1; total time=   0.7s\n",
            "[CV] END ...................................C=0.1, gamma=0.1; total time=   0.7s\n",
            "[CV] END ..................................C=0.1, gamma=0.01; total time=   0.7s\n",
            "[CV] END ..................................C=0.1, gamma=0.01; total time=   0.7s\n",
            "[CV] END ..................................C=0.1, gamma=0.01; total time=   0.8s\n",
            "[CV] END ..................................C=0.1, gamma=0.01; total time=   0.7s\n",
            "[CV] END ..................................C=0.1, gamma=0.01; total time=   1.1s\n",
            "[CV] END .................................C=0.1, gamma=0.001; total time=   2.1s\n",
            "[CV] END .................................C=0.1, gamma=0.001; total time=   1.2s\n",
            "[CV] END .................................C=0.1, gamma=0.001; total time=   1.2s\n",
            "[CV] END .................................C=0.1, gamma=0.001; total time=   1.2s\n",
            "[CV] END .................................C=0.1, gamma=0.001; total time=   1.2s\n",
            "[CV] END .......................................C=1, gamma=1; total time=   1.4s\n",
            "[CV] END .......................................C=1, gamma=1; total time=   1.4s\n",
            "[CV] END .......................................C=1, gamma=1; total time=   1.4s\n",
            "[CV] END .......................................C=1, gamma=1; total time=   1.8s\n",
            "[CV] END .......................................C=1, gamma=1; total time=   2.2s\n",
            "[CV] END .....................................C=1, gamma=0.1; total time=   0.4s\n",
            "[CV] END .....................................C=1, gamma=0.1; total time=   0.4s\n",
            "[CV] END .....................................C=1, gamma=0.1; total time=   0.4s\n",
            "[CV] END .....................................C=1, gamma=0.1; total time=   0.4s\n",
            "[CV] END .....................................C=1, gamma=0.1; total time=   0.4s\n",
            "[CV] END ....................................C=1, gamma=0.01; total time=   0.4s\n",
            "[CV] END ....................................C=1, gamma=0.01; total time=   0.4s\n",
            "[CV] END ....................................C=1, gamma=0.01; total time=   0.4s\n",
            "[CV] END ....................................C=1, gamma=0.01; total time=   0.5s\n",
            "[CV] END ....................................C=1, gamma=0.01; total time=   0.4s\n",
            "[CV] END ...................................C=1, gamma=0.001; total time=   0.7s\n",
            "[CV] END ...................................C=1, gamma=0.001; total time=   0.7s\n",
            "[CV] END ...................................C=1, gamma=0.001; total time=   0.8s\n",
            "[CV] END ...................................C=1, gamma=0.001; total time=   0.7s\n",
            "[CV] END ...................................C=1, gamma=0.001; total time=   0.7s\n",
            "[CV] END ......................................C=10, gamma=1; total time=   1.4s\n",
            "[CV] END ......................................C=10, gamma=1; total time=   2.1s\n",
            "[CV] END ......................................C=10, gamma=1; total time=   1.8s\n",
            "[CV] END ......................................C=10, gamma=1; total time=   1.4s\n",
            "[CV] END ......................................C=10, gamma=1; total time=   1.4s\n",
            "[CV] END ....................................C=10, gamma=0.1; total time=   0.3s\n",
            "[CV] END ....................................C=10, gamma=0.1; total time=   0.4s\n",
            "[CV] END ....................................C=10, gamma=0.1; total time=   0.4s\n",
            "[CV] END ....................................C=10, gamma=0.1; total time=   0.4s\n",
            "[CV] END ....................................C=10, gamma=0.1; total time=   0.4s\n",
            "[CV] END ...................................C=10, gamma=0.01; total time=   0.4s\n",
            "[CV] END ...................................C=10, gamma=0.01; total time=   0.4s\n",
            "[CV] END ...................................C=10, gamma=0.01; total time=   0.4s\n",
            "[CV] END ...................................C=10, gamma=0.01; total time=   0.4s\n",
            "[CV] END ...................................C=10, gamma=0.01; total time=   0.4s\n",
            "[CV] END ..................................C=10, gamma=0.001; total time=   0.5s\n",
            "[CV] END ..................................C=10, gamma=0.001; total time=   0.5s\n",
            "[CV] END ..................................C=10, gamma=0.001; total time=   0.5s\n",
            "[CV] END ..................................C=10, gamma=0.001; total time=   0.5s\n",
            "[CV] END ..................................C=10, gamma=0.001; total time=   0.5s\n",
            "[CV] END .....................................C=100, gamma=1; total time=   2.1s\n",
            "[CV] END .....................................C=100, gamma=1; total time=   1.8s\n",
            "[CV] END .....................................C=100, gamma=1; total time=   1.4s\n",
            "[CV] END .....................................C=100, gamma=1; total time=   1.3s\n",
            "[CV] END .....................................C=100, gamma=1; total time=   1.3s\n",
            "[CV] END ...................................C=100, gamma=0.1; total time=   0.3s\n",
            "[CV] END ...................................C=100, gamma=0.1; total time=   0.4s\n",
            "[CV] END ...................................C=100, gamma=0.1; total time=   0.4s\n",
            "[CV] END ...................................C=100, gamma=0.1; total time=   0.4s\n",
            "[CV] END ...................................C=100, gamma=0.1; total time=   0.4s\n",
            "[CV] END ..................................C=100, gamma=0.01; total time=   0.4s\n",
            "[CV] END ..................................C=100, gamma=0.01; total time=   0.4s\n",
            "[CV] END ..................................C=100, gamma=0.01; total time=   0.4s\n",
            "[CV] END ..................................C=100, gamma=0.01; total time=   0.4s\n",
            "[CV] END ..................................C=100, gamma=0.01; total time=   0.4s\n",
            "[CV] END .................................C=100, gamma=0.001; total time=   0.4s\n",
            "[CV] END .................................C=100, gamma=0.001; total time=   0.4s\n",
            "[CV] END .................................C=100, gamma=0.001; total time=   0.4s\n",
            "[CV] END .................................C=100, gamma=0.001; total time=   0.7s\n",
            "[CV] END .................................C=100, gamma=0.001; total time=   0.7s\n",
            "Grid Search for SVM complete.\n",
            "\n",
            "Best parameters found for SVM after re-running: {'C': 100, 'gamma': 0.1}\n"
          ]
        },
        {
          "output_type": "display_data",
          "data": {
            "text/plain": [
              "<Figure size 800x600 with 1 Axes>"
            ],
            "image/png": "[encoded data removed]"
          },
          "metadata": {}
        }
      ]
    }
  ]
}
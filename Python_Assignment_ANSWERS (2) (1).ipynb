{
  "cells": [
    {
      "cell_type": "markdown",
      "id": "6ed0f14c",
      "metadata": {
        "id": "6ed0f14c"
      },
      "source": [
        "2) Write a program where based on user input you need to print different statements. (Use if--elif)\n",
        "     If temperature is greater than 30-- print, Its very hot\n",
        "     If temperature is less than 30 but greater than 20--- print, Its hot but manageable\n",
        "     If temperature is less than 20 but greater than 10--- print, Its cold\n",
        "     If temperature is less than 10 but greater than 0--- print Its very cold\n",
        "     Else if temperature less than 10---- print Its Freezing cold\n",
        "     \n",
        "     Example:To check less than 30 but greater than 20 use (temp>=30 and temp<20) as condition.\n",
        "     This way it will check for temperature between 30 & 20\n"
      ]
    },
    {
      "cell_type": "code",
      "source": [
        "a=int(input(\"Enter the temperture \"))\n",
        "if a>30:\n",
        "   print(\"Its very hot\")\n",
        "elif a<30 and a>20:\n",
        "  print(\"Its hot but manageable\")\n",
        "elif a<20 and a>10:\n",
        "  print(\"Its cold\")\n",
        "elif a<10 and a>0:\n",
        "  print(\"Its very cold\")\n",
        "else:\n",
        "  print(\"Its Freezing cold\")"
      ],
      "metadata": {
        "colab": {
          "base_uri": "https://localhost:8080/"
        },
        "id": "Hn7DAuYZmswX",
        "outputId": "5f516c22-79d6-4257-816d-cb6b700e96c1"
      },
      "id": "Hn7DAuYZmswX",
      "execution_count": null,
      "outputs": [
        {
          "output_type": "stream",
          "name": "stdout",
          "text": [
            "Enter the temperture 11\n",
            "Its cold\n"
          ]
        }
      ]
    },
    {
      "cell_type": "markdown",
      "metadata": {
        "id": "cd678fba"
      },
      "source": [
        "1) Write a program using if-elif statements to find maximum between three numbers."
      ],
      "id": "cd678fba"
    },
    {
      "cell_type": "code",
      "source": [
        "a=int(input(\"enter the first no.\"))\n",
        "b=int(input(\"enter the second no.\"))\n",
        "c=int(input(\"enter the third no.\"))\n",
        "if a>b and a>c:\n",
        "  print(\"maximum no. is\",a)\n",
        "elif b>a and b>c:\n",
        "  print(\"maximum no. is \",b)\n",
        "else:\n",
        "  print(\"maximum no. is\",c)"
      ],
      "metadata": {
        "colab": {
          "base_uri": "https://localhost:8080/"
        },
        "id": "vwdO-3-zkuBr",
        "outputId": "a319329d-9760-496f-eb34-1e0fb51d7635"
      },
      "id": "vwdO-3-zkuBr",
      "execution_count": null,
      "outputs": [
        {
          "output_type": "stream",
          "name": "stdout",
          "text": [
            "enter the first no.23\n",
            "enter the second no.24\n",
            "enter the third no.22\n",
            "maximum no. is  24\n"
          ]
        }
      ]
    },
    {
      "cell_type": "markdown",
      "id": "72877431",
      "metadata": {
        "id": "72877431"
      },
      "source": [
        "3) Write a program to check whether a number is divisible by 7 or not"
      ]
    },
    {
      "cell_type": "code",
      "source": [
        "a=int(input(\"Enter the no. \"))\n",
        "if a%7==0:\n",
        "  print(\"Divisible by 7\")\n",
        "else:\n",
        "  print(\"Not divisible by 7\")"
      ],
      "metadata": {
        "colab": {
          "base_uri": "https://localhost:8080/"
        },
        "id": "BfUJMUq0naT8",
        "outputId": "c8935f9c-0e91-442a-bca7-3d97c97560f3"
      },
      "id": "BfUJMUq0naT8",
      "execution_count": null,
      "outputs": [
        {
          "output_type": "stream",
          "name": "stdout",
          "text": [
            "Enter the no. 45647372\n",
            "Not divisible by 7\n"
          ]
        }
      ]
    },
    {
      "cell_type": "markdown",
      "id": "264bba9d",
      "metadata": {
        "id": "264bba9d"
      },
      "source": [
        "4) Write a Python program to display the current date and time"
      ]
    },
    {
      "cell_type": "code",
      "source": [
        "import datetime\n",
        "import pytz\n",
        "\n",
        "a = pytz.timezone(\"Asia/Kolkata\")\n",
        "now = datetime.datetime.now(a)\n",
        "\n",
        "print(\"Current date and time in IST:\",now)\n",
        "\n"
      ],
      "metadata": {
        "colab": {
          "base_uri": "https://localhost:8080/"
        },
        "id": "cF-6is5Rnkby",
        "outputId": "e981e7c3-cbf9-4306-b4d6-0cbbe5594c87"
      },
      "id": "cF-6is5Rnkby",
      "execution_count": null,
      "outputs": [
        {
          "output_type": "stream",
          "name": "stdout",
          "text": [
            "Current date and time in IST: 2025-07-15 16:46:47.606477+05:30\n"
          ]
        }
      ]
    },
    {
      "cell_type": "markdown",
      "id": "8c2c4ae9",
      "metadata": {
        "id": "8c2c4ae9"
      },
      "source": [
        "5) To check wheather given element exists in list or not??\n",
        "    list=[1,2,3,4,5,6,7,8,9,10]\n",
        "    check if 9 and 12 are present in given list or not"
      ]
    },
    {
      "cell_type": "code",
      "source": [
        "a=[1,2,3,4,5,6,7,8,9,10]\n",
        "if 9 in a:\n",
        "  print(\"9 is present in list\")\n",
        "else:\n",
        "  print(\"9 is not present in list\")"
      ],
      "metadata": {
        "colab": {
          "base_uri": "https://localhost:8080/"
        },
        "id": "vNHyDFdFoH5a",
        "outputId": "61a3ec0a-b517-4c41-8914-4a3257caedde"
      },
      "id": "vNHyDFdFoH5a",
      "execution_count": null,
      "outputs": [
        {
          "output_type": "stream",
          "name": "stdout",
          "text": [
            "9 is present in list\n"
          ]
        }
      ]
    },
    {
      "cell_type": "markdown",
      "id": "07b3eb91",
      "metadata": {
        "id": "07b3eb91"
      },
      "source": [
        "6) How to print the largest item from the given list"
      ]
    },
    {
      "cell_type": "code",
      "source": [
        " list=[1,2,3,4,5,6,7,8,9,10]\n",
        " print(max(list))"
      ],
      "metadata": {
        "colab": {
          "base_uri": "https://localhost:8080/"
        },
        "id": "TwTiHxMmoUcW",
        "outputId": "863d8b31-aa46-4a6d-9003-45462a547e5c"
      },
      "id": "TwTiHxMmoUcW",
      "execution_count": null,
      "outputs": [
        {
          "output_type": "stream",
          "name": "stdout",
          "text": [
            "10\n"
          ]
        }
      ]
    },
    {
      "cell_type": "markdown",
      "id": "ae66c79c",
      "metadata": {
        "id": "ae66c79c"
      },
      "source": [
        "7) Write a Python program to calculate number of days between two dates.\n",
        "    Sample dates : (2014, 7, 2), (2014, 7, 11)"
      ]
    },
    {
      "cell_type": "code",
      "source": [
        "a=input(\"Enter the first date in yyyy/mm/dd format\")\n",
        "b=input(\"Enter the second date in yyyy/mm/dd format\")\n",
        "from datetime import date\n",
        "date1=date(int(a[0:4]),int(a[5:7]),int(a[8:10]))\n",
        "date2=date(int(b[0:4]),int(b[5:7]),int(b[8:10]))\n",
        "print(abs(date2-date1))\n"
      ],
      "metadata": {
        "colab": {
          "base_uri": "https://localhost:8080/"
        },
        "collapsed": true,
        "id": "Whl4yDveob93",
        "outputId": "418bfc9d-aeae-4628-9ea4-50a4f1d2a005"
      },
      "id": "Whl4yDveob93",
      "execution_count": null,
      "outputs": [
        {
          "output_type": "stream",
          "name": "stdout",
          "text": [
            "Enter the first date in yyyy/mm/dd format2024/12/20\n",
            "Enter the second date in yyyy/mm/dd format2000/10/21\n",
            "8826 days, 0:00:00\n"
          ]
        }
      ]
    },
    {
      "cell_type": "markdown",
      "id": "13852b5d",
      "metadata": {
        "id": "13852b5d"
      },
      "source": [
        "8) Write a Python program to get the difference between a given number and 17,\n",
        "   if the number is greater than 17 return double the absolute difference"
      ]
    },
    {
      "cell_type": "code",
      "source": [
        "a=int(input(\"Enter the no. \"))\n",
        "if a<=17:\n",
        "  print(17-a)\n",
        "else:\n",
        "  print((a-17)*2)"
      ],
      "metadata": {
        "colab": {
          "base_uri": "https://localhost:8080/"
        },
        "id": "kSuvgWYoqM9r",
        "outputId": "2543c70d-9b97-41e9-825b-efccfc40c37d"
      },
      "id": "kSuvgWYoqM9r",
      "execution_count": 1,
      "outputs": [
        {
          "output_type": "stream",
          "name": "stdout",
          "text": [
            "Enter the no. 23\n",
            "12\n"
          ]
        }
      ]
    },
    {
      "cell_type": "markdown",
      "id": "42fac717",
      "metadata": {
        "id": "42fac717"
      },
      "source": [
        "9) Write a Python program to display the first and last colors from the following list.\n",
        "    color_list = [\"Red\",\"Green\",\"White\" ,\"Black\"]"
      ]
    },
    {
      "cell_type": "code",
      "source": [
        "list=[\"red\",\"green\",'white','black']\n",
        "print(list[0],list[-1])"
      ],
      "metadata": {
        "colab": {
          "base_uri": "https://localhost:8080/"
        },
        "id": "XpgEL1S8qogU",
        "outputId": "438b35cd-15d1-42f4-ce9a-1699ca726b6f"
      },
      "id": "XpgEL1S8qogU",
      "execution_count": null,
      "outputs": [
        {
          "output_type": "stream",
          "name": "stdout",
          "text": [
            "red black\n"
          ]
        }
      ]
    },
    {
      "cell_type": "markdown",
      "id": "34ebc16b",
      "metadata": {
        "id": "34ebc16b"
      },
      "source": [
        "10)Write a program to check if entered character is a vowel or not."
      ]
    },
    {
      "cell_type": "code",
      "source": [
        "a=input(\"Enter the character \")[0]\n",
        "if a=='a' or a=='e' or a=='i' or a=='o' or a=='u':\n",
        "  print(a,\"is Vowel\")\n",
        "else:\n",
        "  print(\"Not Vowel\")"
      ],
      "metadata": {
        "colab": {
          "base_uri": "https://localhost:8080/"
        },
        "id": "_kdiHxMpq22H",
        "outputId": "76b36005-012b-4ff9-b3a9-6fcc7c1ddcef"
      },
      "id": "_kdiHxMpq22H",
      "execution_count": null,
      "outputs": [
        {
          "output_type": "stream",
          "name": "stdout",
          "text": [
            "Enter the character a\n",
            "a is Vowel\n"
          ]
        }
      ]
    },
    {
      "cell_type": "markdown",
      "id": "724d359c",
      "metadata": {
        "id": "724d359c"
      },
      "source": [
        "11) We have tuple, tup1=(\"hello\",\"thanks\",\"bye\")\n",
        "    How to print index of \"thanks\"?"
      ]
    },
    {
      "cell_type": "code",
      "source": [
        "tup1=(\"hello\",\"thanks\",\"bye\")\n",
        "print(tup1.index(\"thanks\"))"
      ],
      "metadata": {
        "colab": {
          "base_uri": "https://localhost:8080/"
        },
        "id": "ABxpfQDDr2c7",
        "outputId": "092c7a2b-050e-4ea2-b88d-0b7314a2a83b"
      },
      "id": "ABxpfQDDr2c7",
      "execution_count": null,
      "outputs": [
        {
          "output_type": "stream",
          "name": "stdout",
          "text": [
            "1\n"
          ]
        }
      ]
    },
    {
      "cell_type": "markdown",
      "id": "9c120880",
      "metadata": {
        "id": "9c120880"
      },
      "source": [
        "12) We have set, set1={5,6,7,8}\n",
        "    How to add multiple items 12,15,18 in set1?"
      ]
    },
    {
      "cell_type": "code",
      "source": [
        "set1={5,6,7,8}\n",
        "print(set1)\n",
        "set1.add(12)\n",
        "set1.add(15)\n",
        "set1.add(18)\n",
        "print(set1)"
      ],
      "metadata": {
        "colab": {
          "base_uri": "https://localhost:8080/"
        },
        "id": "OtVGLouXsIia",
        "outputId": "3a80a26b-fb22-474c-91e1-aca669f4a63f"
      },
      "id": "OtVGLouXsIia",
      "execution_count": null,
      "outputs": [
        {
          "output_type": "stream",
          "name": "stdout",
          "text": [
            "{8, 5, 6, 7}\n",
            "{5, 6, 7, 8, 12, 15, 18}\n"
          ]
        }
      ]
    },
    {
      "cell_type": "markdown",
      "id": "a78e5bd5",
      "metadata": {
        "id": "a78e5bd5"
      },
      "source": [
        "13) Write a Python program which accepts a sequence of comma-separated numbers from user and generate a list and a tuple with those numbers"
      ]
    },
    {
      "cell_type": "code",
      "source": [
        "a = input(\"enter the numbers: \")\n",
        "l = a.split(\",\")\n",
        "t = tuple(l)\n",
        "\n",
        "print(l)\n",
        "print(t)"
      ],
      "metadata": {
        "colab": {
          "base_uri": "https://localhost:8080/"
        },
        "id": "hyFsO1koxRso",
        "outputId": "56c61bd3-229a-47fc-e3b6-f141051b0a5b"
      },
      "id": "hyFsO1koxRso",
      "execution_count": null,
      "outputs": [
        {
          "output_type": "stream",
          "name": "stdout",
          "text": [
            "enter the numbers: 11,22,33,44,55\n",
            "['11', '22', '33', '44', '55']\n",
            "('11', '22', '33', '44', '55')\n"
          ]
        }
      ]
    },
    {
      "cell_type": "markdown",
      "id": "21c651f1",
      "metadata": {
        "id": "21c651f1"
      },
      "source": [
        "14)A school has following rules for grading system:\n",
        "\n",
        "a. Below 25 - F\n",
        "\n",
        "b. 25 to 45 - E\n",
        "\n",
        "c. 45 to 50 - D\n",
        "\n",
        "d. 50 to 60 - C\n",
        "\n",
        "e. 60 to 80 - B\n",
        "\n",
        "f. Above 80 - A\n",
        "\n",
        "Ask user to enter marks and print the corresponding grade."
      ]
    },
    {
      "cell_type": "code",
      "source": [
        "a=int(input(\"Enter the marks \"))\n",
        "if a<25:\n",
        "  print(\"F\")\n",
        "elif a>=25 and a<45:\n",
        "  print(\"E\")\n",
        "elif a>=45 and a<50:\n",
        "  print(\"D\")\n",
        "elif a>=50 and a<60:\n",
        "  print(\"C\")\n",
        "elif a>=60 and a<80:\n",
        "  print(\"B\")\n",
        "else:\n",
        "  print(\"A\")"
      ],
      "metadata": {
        "colab": {
          "base_uri": "https://localhost:8080/"
        },
        "id": "rrje1-a0t0vB",
        "outputId": "13f06538-6590-48c2-95ab-b96781dc7424"
      },
      "id": "rrje1-a0t0vB",
      "execution_count": null,
      "outputs": [
        {
          "output_type": "stream",
          "name": "stdout",
          "text": [
            "Enter the marks 36\n",
            "E\n"
          ]
        }
      ]
    },
    {
      "cell_type": "markdown",
      "id": "b8d7be0f",
      "metadata": {
        "id": "b8d7be0f"
      },
      "source": [
        "15)Write a program to display last digit of the number.\n",
        "(Hint: Any number % 10 will return last digit)"
      ]
    },
    {
      "cell_type": "code",
      "source": [
        "a=int(input(\"Enter the no. \"))\n",
        "print(a%10)"
      ],
      "metadata": {
        "colab": {
          "base_uri": "https://localhost:8080/"
        },
        "id": "DU1JH2sVuBtP",
        "outputId": "2f9ff620-50a1-406f-fa28-537958e593ec"
      },
      "id": "DU1JH2sVuBtP",
      "execution_count": null,
      "outputs": [
        {
          "output_type": "stream",
          "name": "stdout",
          "text": [
            "Enter the no. 654788599\n",
            "9\n"
          ]
        }
      ]
    }
  ],
  "metadata": {
    "kernelspec": {
      "display_name": "Python 3 (ipykernel)",
      "language": "python",
      "name": "python3"
    },
    "language_info": {
      "codemirror_mode": {
        "name": "ipython",
        "version": 3
      },
      "file_extension": ".py",
      "mimetype": "text/x-python",
      "name": "python",
      "nbconvert_exporter": "python",
      "pygments_lexer": "ipython3",
      "version": "3.11.5"
    },
    "colab": {
      "provenance": []
    }
  },
  "nbformat": 4,
  "nbformat_minor": 5
}
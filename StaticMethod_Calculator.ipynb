{
  "cells": [
    {
      "cell_type": "markdown",
      "metadata": {
        "id": "view-in-github",
        "colab_type": "text"
      },
      "source": [
        "<a href=\"https://colab.research.google.com/github/LibinBabu2003/data-science-journey/blob/main/StaticMethod_Calculator.ipynb\" target=\"_parent\"><img src=\"https://colab.research.google.com/assets/colab-badge.svg\" alt=\"Open In Colab\"/></a>"
      ]
    },
    {
      "cell_type": "markdown",
      "metadata": {
        "id": "7Ex7IiEq-htU"
      },
      "source": [
        "# 🔢 Static Methods Example: Calculator in Python\n",
        "This notebook demonstrates how to use `@staticmethod` in Python with a simple Calculator class."
      ],
      "id": "7Ex7IiEq-htU"
    },
    {
      "cell_type": "code",
      "execution_count": null,
      "metadata": {
        "id": "kAkXgFJv-htV"
      },
      "outputs": [],
      "source": [
        "class Calculator:\n",
        "    @staticmethod\n",
        "    def add(a, b):\n",
        "        return a + b\n",
        "\n",
        "    @staticmethod\n",
        "    def subtract(a, b):\n",
        "        return a - b\n",
        "\n",
        "    @staticmethod\n",
        "    def multiply(a, b):\n",
        "        return a * b\n",
        "\n",
        "    @staticmethod\n",
        "    def divide(a, b):\n",
        "        if b != 0:\n",
        "            return a / b\n",
        "        else:\n",
        "            return \"Cannot divide by zero\"\n"
      ],
      "id": "kAkXgFJv-htV"
    },
    {
      "cell_type": "code",
      "execution_count": null,
      "metadata": {
        "id": "ikfNk4VH-htW"
      },
      "outputs": [],
      "source": [
        "# 🔍 Using the Calculator static methods\n",
        "print(\"Add:\", Calculator.add(10, 5))\n",
        "print(\"Subtract:\", Calculator.subtract(10, 5))\n",
        "print(\"Multiply:\", Calculator.multiply(10, 5))\n",
        "print(\"Divide:\", Calculator.divide(10, 0))"
      ],
      "id": "ikfNk4VH-htW"
    },
    {
      "cell_type": "code",
      "source": [
        "class calc:\n",
        "  def add(a,b):\n",
        "    return a+b\n",
        "  def sub(a,b):\n",
        "    return a-b\n",
        "  def mul(a,b):\n",
        "    return a*b\n",
        "  def div(a,b):\n",
        "    return a/b\n",
        "print(calc.add(45,56),calc.sub(45,56),calc.mul(45,56),calc.div(45,56))"
      ],
      "metadata": {
        "colab": {
          "base_uri": "https://localhost:8080/"
        },
        "id": "UHhg1Zxf-nCc",
        "outputId": "783d48ff-e3a0-426f-e9a9-abb86698a657"
      },
      "id": "UHhg1Zxf-nCc",
      "execution_count": null,
      "outputs": [
        {
          "output_type": "stream",
          "name": "stdout",
          "text": [
            "101 -11 2520 0.8035714285714286\n"
          ]
        }
      ]
    },
    {
      "cell_type": "code",
      "metadata": {
        "colab": {
          "base_uri": "https://localhost:8080/"
        },
        "id": "7c4154bc",
        "outputId": "608cf385-e3ac-452e-b62e-878365e98ed3"
      },
      "source": [
        "class MyClass:\n",
        "    def __init__(self, value):\n",
        "        self.instance_variable = value # Using self to access instance variables\n",
        "\n",
        "    def instance_method(self):\n",
        "        # Using self to access instance variables and methods\n",
        "        print(f\"The instance variable is: {self.instance_variable}\")\n",
        "\n",
        "# Create an instance of MyClass\n",
        "my_instance = MyClass(100)\n",
        "\n",
        "# Call the instance method\n",
        "my_instance.instance_method()"
      ],
      "id": "7c4154bc",
      "execution_count": null,
      "outputs": [
        {
          "output_type": "stream",
          "name": "stdout",
          "text": [
            "The instance variable is: 100\n"
          ]
        }
      ]
    },
    {
      "cell_type": "code",
      "source": [
        "class calc:\n",
        "  def __init__(self,a,b):\n",
        "    self.a=a\n",
        "    self.b=b\n",
        "  def add(self):\n",
        "    return self.a + self.b\n",
        "  def sub(self):\n",
        "    return self.a - self.b\n",
        "  def mul(self):\n",
        "    return self.a * self.b\n",
        "  def div(self):\n",
        "    return self.a / self.b\n",
        "d=calc(45,56)\n",
        "print(d.add(),d.sub(),d.mul(),d.div())"
      ],
      "metadata": {
        "colab": {
          "base_uri": "https://localhost:8080/"
        },
        "id": "XeR9andf_ck4",
        "outputId": "7ed07ace-a638-4434-93af-cc99326a611c"
      },
      "id": "XeR9andf_ck4",
      "execution_count": null,
      "outputs": [
        {
          "output_type": "stream",
          "name": "stdout",
          "text": [
            "101 -11 2520 0.8035714285714286\n"
          ]
        }
      ]
    }
  ],
  "metadata": {
    "kernelspec": {
      "display_name": "Python 3",
      "language": "python",
      "name": "python3"
    },
    "language_info": {
      "name": "python",
      "version": "3.x"
    },
    "colab": {
      "provenance": [],
      "include_colab_link": true
    }
  },
  "nbformat": 4,
  "nbformat_minor": 5
}
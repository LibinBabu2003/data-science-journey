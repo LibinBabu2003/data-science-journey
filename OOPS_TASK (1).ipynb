{
  "nbformat": 4,
  "nbformat_minor": 0,
  "metadata": {
    "colab": {
      "provenance": []
    },
    "kernelspec": {
      "name": "python3",
      "display_name": "Python 3"
    },
    "language_info": {
      "name": "python"
    }
  },
  "cells": [
    {
      "cell_type": "markdown",
      "source": [
        "# Create an Employee class and extend it to a Manager class with added attributes/methods."
      ],
      "metadata": {
        "id": "jonAUSJR9c5n"
      }
    },
    {
      "cell_type": "code",
      "execution_count": 2,
      "metadata": {
        "colab": {
          "base_uri": "https://localhost:8080/"
        },
        "id": "GOlGSLUd3_Q6",
        "outputId": "2ce173de-e6e7-419d-c00b-060cf7251ef6"
      },
      "outputs": [
        {
          "output_type": "stream",
          "name": "stdout",
          "text": [
            "libin assigns task to complete front end to him \n",
            "name:libin\n",
            " age:22 \n",
            " salary20000 \n",
            " dep:data science\n",
            "manager level:senior \n",
            " team size:5\n"
          ]
        }
      ],
      "source": [
        "class employee:\n",
        "  def __init__(self,name,age,salary,department):\n",
        "    self.age=age\n",
        "    self.name=name\n",
        "    self.salary=salary\n",
        "    self.department=department\n",
        "  def display(self):\n",
        "    print(f\"name:{self.name}\\n age:{self.age} \\n salary{self.salary} \\n dep:{self.department}\")\n",
        "class manager(employee):\n",
        "  def __init__(self,name,age,salary,department,teamsize,level):\n",
        "    super().__init__(name,age,salary,department)\n",
        "    self.teamsize=teamsize\n",
        "    self.level=level\n",
        "  def assign_task(self,task,team_member):\n",
        "    print(f\"{self.name} assigns task to {task} to {team_member} \")\n",
        "  def mgr_disp(self):\n",
        "    print(f\"manager level:{self.level} \\n team size:{self.teamsize}\")\n",
        "m=employee(\"libin\",22,20000,\"data science\")\n",
        "e=manager(\"libin\",22,20000,\"data science\",5,\"senior\")\n",
        "e.assign_task(\"complete front end\",\"him\")\n",
        "\n",
        "e.display()\n",
        "e.mgr_disp()\n"
      ]
    },
    {
      "cell_type": "markdown",
      "source": [
        "# Implement method overriding using inheritance."
      ],
      "metadata": {
        "id": "9xEIg-6tAZjj"
      }
    },
    {
      "cell_type": "code",
      "source": [
        "class employee:\n",
        "  def __init__(self,name,age,salary,department):\n",
        "    self.age=age\n",
        "    self.name=name\n",
        "    self.salary=salary\n",
        "    self.department=department\n",
        "  def display(self):\n",
        "    print(f\"name:{self.name}\\n age:{self.age} \\n salary{self.salary} \\n dep:{self.department}\")\n",
        "class manager(employee):\n",
        "  def __init__(self,name,age,salary,department,teamsize,level):\n",
        "    super().__init__(name,age,salary,department)\n",
        "    self.teamsize=teamsize\n",
        "    self.level=level\n",
        "  def display(self):\n",
        "    super().display()\n",
        "    print(f\"manager level:{self.level} \\n team size:{self.teamsize}\")\n",
        "\n",
        "m=employee(\"libin\",22,20000,\"data science\")\n",
        "e=manager(\"libin\",22,20000,\"data science\",5,\"senior\")\n",
        "m.display()\n",
        "print(\"\\n\")\n",
        "e.display()"
      ],
      "metadata": {
        "colab": {
          "base_uri": "https://localhost:8080/"
        },
        "id": "lAkCSCn89jlB",
        "outputId": "87987426-66e7-43ba-e0ff-5fd9fa8b41ef"
      },
      "execution_count": 11,
      "outputs": [
        {
          "output_type": "stream",
          "name": "stdout",
          "text": [
            "name:libin\n",
            " age:22 \n",
            " salary20000 \n",
            " dep:data science\n",
            "\n",
            "\n",
            "name:libin\n",
            " age:22 \n",
            " salary20000 \n",
            " dep:data science\n",
            "manager level:senior \n",
            " team size:5\n"
          ]
        }
      ]
    },
    {
      "cell_type": "markdown",
      "source": [
        "# Try a multiple inheritance example (e.g., Person, Worker)."
      ],
      "metadata": {
        "id": "iReqsZE9AbvN"
      }
    },
    {
      "cell_type": "code",
      "source": [
        "class person:\n",
        "  def __init__(self,name,age):\n",
        "    self.name=name\n",
        "    self.age=age\n",
        "  def display(self):\n",
        "    print(f\"name:{self.name}  age:{self.age}\")\n",
        "class worker(person):\n",
        "  def __init__(self,name,age,company,salary):\n",
        "    super().__init__(name,age)\n",
        "    self.company=company\n",
        "    self.salary=salary\n",
        "  def display(self):\n",
        "    super().display()\n",
        "    print(f\"company:{self.company}  salary:{self.salary}\")\n",
        "class employee(worker):\n",
        "  def __init__(self,name,age,company,salary,emp_id):\n",
        "    super().__init__(name,age,company,salary)\n",
        "    self.emp_id=emp_id\n",
        "  def display(self):\n",
        "    super().display()\n",
        "    print(f\"{self.emp_id}\")\n",
        "\n",
        "a=employee(\"libin\",22,\"senscript\",2000,\"sens112\")\n",
        "a.display()"
      ],
      "metadata": {
        "colab": {
          "base_uri": "https://localhost:8080/"
        },
        "collapsed": true,
        "id": "WE7eKbAGAm8M",
        "outputId": "c12c6653-cdca-4b9d-a30a-aa0e7f49d66e"
      },
      "execution_count": 17,
      "outputs": [
        {
          "output_type": "stream",
          "name": "stdout",
          "text": [
            "name:libin  age:22\n",
            "company:senscript  salary:2000\n",
            "sens112\n"
          ]
        }
      ]
    },
    {
      "cell_type": "markdown",
      "source": [
        "# Create a calculator class with basic operations."
      ],
      "metadata": {
        "id": "E98WLxCyEZNf"
      }
    },
    {
      "cell_type": "code",
      "source": [
        "class calc:\n",
        "    def __init__(self):\n",
        "        pass\n",
        "\n",
        "    def add(self, a, b):\n",
        "        return a + b\n",
        "\n",
        "    def sub(self, a, b):\n",
        "        return a - b\n",
        "\n",
        "    def mul(self, a, b):\n",
        "        return a * b\n",
        "\n",
        "    def div(self, a, b):\n",
        "        if b == 0:\n",
        "            return \"Division not possible (divide by zero)\"\n",
        "        else:\n",
        "            return a / b\n",
        "\n",
        "calc=calc()\n",
        "while True:\n",
        "  print(\"simple calculator \\n 1 for addition \\n 2 for substraction \\n 3 for multiplication \\n 4 for division \\n 5 for exit\")\n",
        "  c=int(input(\"enter the choice\"))\n",
        "  if c in [1,2,3,4]:\n",
        "    a=float(input(\"enter the 1st no.\"))\n",
        "\n",
        "    b=float(input(\"enter the 2nd no.\"))\n",
        "    if c ==1:\n",
        "      print(f\"{calc.add(a,b)}\\n\")\n",
        "    elif c ==2:\n",
        "      print(f\"{calc.sub(a,b)}\\n\")\n",
        "    elif c ==3:\n",
        "      print(f\"{calc.mul(a,b)}\\n\")\n",
        "    elif c ==4:\n",
        "      print(f\"{calc.div(a,b)}\\n\")\n",
        "  elif c ==5:\n",
        "      print(\"thankyou\")\n",
        "      break\n",
        "\n",
        "  else:\n",
        "    print(\"invalid input\")\n",
        "\n",
        "\n",
        "\n"
      ],
      "metadata": {
        "colab": {
          "base_uri": "https://localhost:8080/"
        },
        "id": "TG8wlAxvEdrP",
        "outputId": "f2a19a99-7f01-49b7-c395-b5b293c81684"
      },
      "execution_count": 36,
      "outputs": [
        {
          "output_type": "stream",
          "name": "stdout",
          "text": [
            "simple calculator \n",
            " 1 for addition \n",
            " 2 for substraction \n",
            " 3 for multiplication \n",
            " 4 for division \n",
            " 5 for exit\n",
            "enter the choice2\n",
            "enter the 1st no.45\n",
            "enter the 2nd no.54\n",
            "-9.0\n",
            "\n",
            "simple calculator \n",
            " 1 for addition \n",
            " 2 for substraction \n",
            " 3 for multiplication \n",
            " 4 for division \n",
            " 5 for exit\n",
            "enter the choice5\n",
            "thankyou\n"
          ]
        }
      ]
    }
  ]
}